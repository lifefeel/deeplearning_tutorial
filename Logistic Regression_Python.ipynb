{
 "cells": [
  {
   "cell_type": "markdown",
   "metadata": {},
   "source": [
    "##Data Generation"
   ]
  },
  {
   "cell_type": "code",
   "execution_count": 37,
   "metadata": {
    "collapsed": false
   },
   "outputs": [],
   "source": [
    "import numpy as np\n",
    "\n",
    "\n",
    "\n",
    "numData = 100\n",
    "x_1 = np.random.uniform(1, 10, numData)\n",
    "offset = np.random.uniform(0, 4, numData)\n",
    "x_2 = x_1 + offset\n",
    "\n",
    "y = [1 if x_2[i] > (x_1[i]+2) else 0 for i in xrange(len(x_1)) ]\n"
   ]
  },
  {
   "cell_type": "markdown",
   "metadata": {},
   "source": [
    "##Data Visualization"
   ]
  },
  {
   "cell_type": "code",
   "execution_count": 40,
   "metadata": {
    "collapsed": false
   },
   "outputs": [
    {
     "name": "stdout",
     "output_type": "stream",
     "text": [
      "Populating the interactive namespace from numpy and matplotlib\n",
      "52 48\n"
     ]
    },
    {
     "data": {
      "text/plain": [
       "<matplotlib.legend.Legend at 0x7ff5dcce1c50>"
      ]
     },
     "execution_count": 40,
     "metadata": {},
     "output_type": "execute_result"
    },
    {
     "data": {
      "image/png": "[encoded data removed]",
      "text/plain": [
       "<matplotlib.figure.Figure at 0x7ff5dcde4090>"
      ]
     },
     "metadata": {},
     "output_type": "display_data"
    }
   ],
   "source": [
    "import matplotlib.pyplot as plt\n",
    "% pylab inline \n",
    "\n",
    "pos = [i for i in xrange(len(y)) if y[i] == 1]\n",
    "neg = [i for i in xrange(len(y)) if y[i] == 0]\n",
    "\n",
    "print len(pos), len(neg)\n",
    "\n",
    "plt.scatter(x_1[pos], x_2[pos], marker = 'o', color='b')\n",
    "plt.scatter(x_1[neg], x_2[neg], marker = 'x', color='r')\n",
    "\n",
    "plt.xlabel('X1')\n",
    "plt.ylabel('Y1')\n",
    "plt.legend(['1', '0'])"
   ]
  },
  {
   "cell_type": "markdown",
   "metadata": {},
   "source": [
    "##Model Define"
   ]
  },
  {
   "cell_type": "code",
   "execution_count": 61,
   "metadata": {
    "collapsed": true
   },
   "outputs": [],
   "source": [
    "######################\n",
    "#http://aimotion.blogspot.kr/2011/11/machine-learning-with-python-logistic.html\n",
    "\n",
    "\n",
    "def sigmoid(X):\n",
    "    '''Compute the sigmoid function '''\n",
    "    #d = zeros(shape=(X.shape))\n",
    "\n",
    "    den = 1.0 + e ** (-1.0 * X)\n",
    "\n",
    "    d = 1.0 / den\n",
    "\n",
    "    return d\n",
    "\n",
    "\n",
    "def compute_cost(theta,X,y): #computes cost given predicted and actual values\n",
    "    m = X.shape[0] #number of training examples\n",
    "    theta = reshape(theta,(len(theta),1))\n",
    "\n",
    "    #y = reshape(y,(len(y),1))\n",
    "    \n",
    "    J = (1./m) * (-transpose(y).dot(log(sigmoid(X.dot(theta)))) - transpose(1-y).dot(log(1-sigmoid(X.dot(theta)))))\n",
    "    \n",
    "    grad = transpose((1./m)*transpose(sigmoid(X.dot(theta)) - y).dot(X))\n",
    "    #optimize.fmin expects a single value, so cannot return grad\n",
    "    return J[0][0]#,grad\n",
    "\n",
    "\n",
    "def compute_grad(theta, X, y):\n",
    "    m = X.shape[0]\n",
    "    \n",
    "    #print theta.shape\n",
    "\n",
    "    theta.shape = (1, 3)\n",
    "\n",
    "    grad = zeros(3)\n",
    "\n",
    "    h = sigmoid(X.dot(theta.T))\n",
    "\n",
    "    delta = h - y\n",
    "\n",
    "    l = grad.size\n",
    "\n",
    "    for i in range(l):\n",
    "        sumdelta = delta.T.dot(X[:, i])\n",
    "        grad[i] = (1.0 / m) * sumdelta * - 1\n",
    "\n",
    "    theta.shape = (3,)\n",
    "\n",
    "    return  grad\n",
    "\n",
    "def predict(theta, X):\n",
    "    '''Predict whether the label\n",
    "    is 0 or 1 using learned logistic\n",
    "    regression parameters '''\n",
    "    m, n = X.shape\n",
    "    p = zeros(shape=(m, 1))\n",
    "\n",
    "    h = sigmoid(X.dot(theta.T))\n",
    "\n",
    "    for it in range(0, h.shape[0]):\n",
    "        if h[it] > 0.5:\n",
    "            p[it, 0] = 1\n",
    "        else:\n",
    "            p[it, 0] = 0\n",
    "\n",
    "    return p"
   ]
  },
  {
   "cell_type": "code",
   "execution_count": 64,
   "metadata": {
    "collapsed": false
   },
   "outputs": [
    {
     "name": "stdout",
     "output_type": "stream",
     "text": [
      "(100, 3)\n",
      "(100, 1)\n"
     ]
    }
   ],
   "source": [
    "bias = np.ones(numData)\n",
    "data = np.vstack([bias,x_1, x_2]).T\n",
    "print data.shape\n",
    "y = np.reshape(y, [numData, 1])\n",
    "print y.shape"
   ]
  },
  {
   "cell_type": "markdown",
   "metadata": {},
   "source": [
    "##Parameter Learning"
   ]
  },
  {
   "cell_type": "code",
   "execution_count": 91,
   "metadata": {
    "collapsed": false
   },
   "outputs": [],
   "source": [
    "theta = np.zeros(3)\n",
    "alpha = 0.001\n",
    "numIter = 100\n",
    "\n",
    "cost_his = []\n",
    "theta_his = []\n",
    "\n",
    "for i in xrange(numIter):\n",
    "    cost = compute_cost(theta, data, y)\n",
    "    grad = compute_grad(theta, data, y)\n",
    "    theta = theta + 0.1 * grad\n",
    "    cost_his.append(cost)\n",
    "    theta_his.append(theta)\n"
   ]
  },
  {
   "cell_type": "markdown",
   "metadata": {},
   "source": [
    "##Visualization-h(x)"
   ]
  },
  {
   "cell_type": "code",
   "execution_count": 93,
   "metadata": {
    "collapsed": false
   },
   "outputs": [
    {
     "name": "stdout",
     "output_type": "stream",
     "text": [
      "[-0.25762368 -1.1113398   0.9384975 ]\n"
     ]
    },
    {
     "data": {
      "image/png": "[encoded data removed]",
      "text/plain": [
       "<matplotlib.figure.Figure at 0x7ff5dc564e90>"
      ]
     },
     "metadata": {},
     "output_type": "display_data"
    }
   ],
   "source": [
    "from __future__ import print_function\n",
    "from IPython.html.widgets import interact, interactive, fixed\n",
    "from IPython.html import widgets\n",
    "\n",
    "@interact (bar_idx=(0,numIter))\n",
    "def viz(bar_idx):\n",
    "    \n",
    "    plt.scatter(x_1[pos], x_2[pos], marker = 'o', color='b')\n",
    "    plt.scatter(x_1[neg], x_2[neg], marker = 'x', color='r')\n",
    "\n",
    "    plt.xlabel('X1')\n",
    "    plt.ylabel('Y1')\n",
    "    plt.legend(['1', '0'])\n",
    "    \n",
    "    plot_x = array([min(data[:, 1]) - 2, max(data[:, 2]) + 2])\n",
    "    plot_y = (- 1.0 / theta_his[bar_idx][2]) * (theta_his[bar_idx][1] * plot_x + theta_his[bar_idx][0])\n",
    "    plt.plot(plot_x, plot_y)\n",
    "    \n",
    "    print (theta_his[bar_idx])\n",
    "    #plt.legend(['Decision Boundary', 'Not admitted', 'Admitted'])"
   ]
  }
 ],
 "metadata": {
  "kernelspec": {
   "display_name": "Python 2",
   "language": "python",
   "name": "python2"
  },
  "language_info": {
   "codemirror_mode": {
    "name": "ipython",
    "version": 2
   },
   "file_extension": ".py",
   "mimetype": "text/x-python",
   "name": "python",
   "nbconvert_exporter": "python",
   "pygments_lexer": "ipython2",
   "version": "2.7.6"
  }
 },
 "nbformat": 4,
 "nbformat_minor": 0
}
